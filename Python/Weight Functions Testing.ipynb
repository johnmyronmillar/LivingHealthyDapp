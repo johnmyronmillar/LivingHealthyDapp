{
 "cells": [
  {
   "cell_type": "code",
   "execution_count": 1,
   "metadata": {},
   "outputs": [],
   "source": [
    "# imports?"
   ]
  },
  {
   "cell_type": "code",
   "execution_count": 2,
   "metadata": {},
   "outputs": [],
   "source": [
    "# BMI funciton in metric system\n",
    "def BMI(units, w, h):\n",
    "    if units == \"metric\":\n",
    "    # Calculate the BMI\n",
    "        bmi=w/((h/100)*(h/100))\n",
    "    \n",
    "    else:\n",
    "        kg = w / 2.205 # pounds to kg\n",
    "        cm = h * 2.54 # inches to cm\n",
    "        bmi=kg/((cm/100)*(cm/100))\n",
    "\n",
    "    # Display the result to the user\n",
    "    return print(\"Your Body Mass Index (BMI) is:\",round(bmi,2))\n"
   ]
  },
  {
   "cell_type": "code",
   "execution_count": 61,
   "metadata": {},
   "outputs": [],
   "source": [
    "def calories_burned(units, t, m, w):\n",
    "    if units == \"metric\":\n",
    "        calories = round((t * m * 3.5 * w / 200), 2)\n",
    "        \n",
    "    else:\n",
    "        kg = w / 2.205 # pounds to kg\n",
    "        calories = round((t * m * 3.5 * kg / 200), 2)\n",
    "\n",
    "    return calories"
   ]
  },
  {
   "cell_type": "code",
   "execution_count": 4,
   "metadata": {},
   "outputs": [],
   "source": [
    "def pounds(kg):\n",
    "    p = kg * 2.205\n",
    "    return p"
   ]
  },
  {
   "cell_type": "code",
   "execution_count": 5,
   "metadata": {},
   "outputs": [],
   "source": [
    "def inch(units, cm):\n",
    "    if units == 'metric':\n",
    "        inches = cm / 2.54\n",
    "    else:\n",
    "        inches = cm\n",
    "    return inches\n",
    "\n",
    "# G. J. Hamwi Formula (1964)\n",
    "# Male:\t48.0 kg + 2.7 kg per inch over 5 feet\n",
    "# Female:\t45.5 kg + 2.2 kg per inch over 5 feet\n",
    "\n",
    "def hamwi(units, s, h):\n",
    "    \n",
    "    if s == 'M':\n",
    "        ideal = 48 + ((inch(units, h) - 60) * 2.7)\n",
    "    elif s == 'F':\n",
    "        ideal = 45.5 + ((inch(units, h) - 60) * 2.2)\n",
    "    else:\n",
    "        print(\"missing M or F\")\n",
    "        \n",
    "    # Display the result to the user\n",
    "    return print(\"Your idea weight in kg:\",round(ideal,2))\n",
    "\n",
    "# B. J. Devine Formula (1974)\n",
    "# Male:\t50.0 kg + 2.3 kg per inch over 5 feet\n",
    "# Female:\t45.5 kg + 2.3 kg per inch over 5 feet\n",
    "\n",
    "def devine(s, h):\n",
    "    \n",
    "    if s == 'M':\n",
    "        ideal = 50 + ((inch(units, h) - 60) * 2.3)\n",
    "    elif s == 'F':\n",
    "        ideal = 45.5 + ((inch(units, h) - 60) * 2.3)\n",
    "    else:\n",
    "        print(\"missing M or F\")\n",
    "        \n",
    "    # Display the result to the user\n",
    "    return print(\"Your idea weight in kg:\",round(ideal,2))\n",
    "\n",
    "# J. D. Robinson Formula (1983)\n",
    "# Male:\t52 kg + 1.9 kg per inch over 5 feet\n",
    "# Female:\t49 kg + 1.7 kg per inch over 5 feet\n",
    "\n",
    "def robinson(s, h):\n",
    "    \n",
    "    if s == 'M':\n",
    "        ideal = 52 + ((inch(units, h) - 60) * 1.9)\n",
    "    elif s == 'F':\n",
    "        ideal = 49 + ((inch(units, h) - 60) * 1.7)\n",
    "    else:\n",
    "        print(\"missing M or F\")\n",
    "        \n",
    "    # Display the result to the user\n",
    "    return print(\"Your idea weight in kg:\",round(ideal,2))\n",
    "\n",
    "# D. R. Miller Formula (1983)\n",
    "# Male:\t56.2 kg + 1.41 kg per inch over 5 feet\n",
    "# Female:\t53.1 kg + 1.36 kg per inch over 5 feet\n",
    "\n",
    "def miller(s, h):\n",
    "    \n",
    "    if s == 'M':\n",
    "        ideal = 56.2 + ((inch(units, h) - 60) * 1.41)\n",
    "    elif s == 'F':\n",
    "        ideal = 53.1 + ((inch(units, h) - 60) * 1.36)\n",
    "    else:\n",
    "        print(\"missing M or F\")\n",
    "        \n",
    "    # Display the result to the user\n",
    "    return print(\"Your idea weight in kg:\",round(ideal,2))"
   ]
  },
  {
   "cell_type": "code",
   "execution_count": 24,
   "metadata": {},
   "outputs": [],
   "source": [
    "def calories_in():\n",
    "    try:\n",
    "        breakfast = float(input('please enter your calories for breakfast: '))\n",
    "        lunch = float(input('please enter your calories for lunch: '))\n",
    "        snack = float(input('please enter your calories for snack: '))\n",
    "        dinner = float(input('please enter your calories for dinner: '))\n",
    "    except ValueError as err:\n",
    "        print ('please enter a numeric value')\n",
    "        return\n",
    "    \n",
    "    daily_calories(breakfast, lunch, snack, dinner)\n",
    "    \n",
    "def daily_calories(b, l, s, d):\n",
    "    total_cals = b + l + s + d\n",
    "    \n",
    "    print('Your total calorie intake: ', total_cals)\n",
    "    return total_cals\n",
    "    "
   ]
  },
  {
   "cell_type": "code",
   "execution_count": 20,
   "metadata": {},
   "outputs": [],
   "source": [
    "def calorie_burn():\n",
    "    age = int(input('please enter your age: '))\n",
    "    gender = (input('please enter your gender as M or F: '))\n",
    "        \n",
    "    if gender == \"F\":\n",
    "        if age <= 8:\n",
    "            cal_burn = 1200\n",
    "        elif age <= 13:\n",
    "            cal_burn = 1600\n",
    "        elif age <= 18:\n",
    "            cal_burn = 1800\n",
    "        elif age <= 30:\n",
    "            cal_burn = 2000\n",
    "        elif age <= 50:\n",
    "            cal_burn = 1800\n",
    "        elif age >= 51:\n",
    "            cal_burn = 1600\n",
    "    else:\n",
    "        if age <= 8:\n",
    "            cal_burn = 1400\n",
    "        elif age <= 13:\n",
    "            cal_burn = 1800\n",
    "        elif age <= 18:\n",
    "            cal_burn = 2200\n",
    "        elif age <= 30:\n",
    "            cal_burn = 2400\n",
    "        elif age <= 50:\n",
    "            cal_burn = 2200\n",
    "        elif age >= 51:\n",
    "            cal_burn = 2000\n",
    "            \n",
    "    return cal_burn"
   ]
  },
  {
   "cell_type": "code",
   "execution_count": 51,
   "metadata": {},
   "outputs": [],
   "source": [
    "# Calorie calculator\n",
    "CALORIES_PER_POUND = 3500\n",
    "\n",
    "def goal_est():\n",
    "    try:\n",
    "        current_weight = float(input('please enter your current weight in pounds: '))\n",
    "        target_weight = float(input('please enter your target weight in pounds: '))\n",
    "#         NumDays = int(input('please enter the number of days you have been on the diet: '))\n",
    "        calories_burned = float(input('please enter the number of calories you burn by activity: '))\n",
    "        calorie_base = float(input('please enter the base number of calories you burn per day: '))\n",
    "        calorie_intake = float(input('please enter the number of calories you in take: '))\n",
    "        \n",
    "    except ValueError as err:\n",
    "        print (\"please enter a numeric value\")\n",
    "        return \n",
    "    \n",
    "    calc_weight(current_weight, target_weight, calories_burned, calorie_base, calorie_intake) # NumDays, \n",
    "    \n",
    "def calc_weight(cw, tw, cbd, cb, ci):\n",
    "    weight_loss_goal = int(cw-tw)\n",
    "    calorie_difference = round((cb + cbd - ci), 2)\n",
    "    days_required = round((weight_loss_goal * CALORIES_PER_POUND / calorie_difference), 2)\n",
    "    months_required = round((days_required / 30), 2)\n",
    "#     remaining_days = round((days_required), 2)\n",
    "#     remaining_months = round((remaining_days / 30), 2)\n",
    "#     pounds_remaining = round(((cw - tw) - (cb * cbd) / CALORIES_PER_POUND), 2)\n",
    "#     pounds_burned = round(((cw - tw) - pounds_remaining), 2)\n",
    "    \n",
    "    #     print ('months remaining: ', remaining_months, 'remaining days: ', remaining_days, 'pounds burned: ', pounds_burned, 'pounds remaining: ', pounds_remaining)\n",
    "    print('A weight loss goal of', weight_loss_goal, 'pounds with a daily calorie difference of', calorie_difference)\n",
    "    print('will require', days_required, 'days or', months_required, 'months.')"
   ]
  },
  {
   "cell_type": "code",
   "execution_count": null,
   "metadata": {},
   "outputs": [],
   "source": []
  },
  {
   "cell_type": "code",
   "execution_count": 15,
   "metadata": {},
   "outputs": [],
   "source": [
    "# challenge\n",
    "# counter = 0\n",
    "# challenge = {}\n",
    "\n",
    "def challenge_set():\n",
    "    counter = 0\n",
    "    challenge_name = (input('enter name of challenge: '))\n",
    "    goal = float(input('enter numeric goal: '))\n",
    "    wager = float(input('enter amount to wager: '))\n",
    "    counter += 1\n",
    "    \n",
    "    challenge = {'Counter': counter, 'Challenge_name': challenge_name, 'Goal': goal, 'Wager': wager}\n",
    "    \n",
    "    return challenge"
   ]
  },
  {
   "cell_type": "code",
   "execution_count": 33,
   "metadata": {},
   "outputs": [],
   "source": [
    "def challenge_winner():\n",
    "    member1_results = float(input('enter results member 1: '))\n",
    "    member2_results = float(input('enter results member 2: '))\n",
    "    if member1_results == member2_results:\n",
    "        winner = \"draw\"\n",
    "    elif member1_results >= member2_results:\n",
    "        winner = \"Member 1 wins\"\n",
    "    else:\n",
    "        winner = \"Member 2 wins\"\n",
    "    print('And the results are', winner)\n"
   ]
  },
  {
   "cell_type": "code",
   "execution_count": 16,
   "metadata": {},
   "outputs": [
    {
     "name": "stdout",
     "output_type": "stream",
     "text": [
      "enter name of challenge: Weight loss\n",
      "enter numeric goal: 35\n",
      "enter amount to wager: 100\n"
     ]
    },
    {
     "data": {
      "text/plain": [
       "{'Counter': 1, 'Challenge_name': 'Weight loss', 'Goal': 35.0, 'Wager': 100.0}"
      ]
     },
     "execution_count": 16,
     "metadata": {},
     "output_type": "execute_result"
    }
   ],
   "source": [
    "challenge_set()"
   ]
  },
  {
   "cell_type": "code",
   "execution_count": 17,
   "metadata": {},
   "outputs": [
    {
     "name": "stdout",
     "output_type": "stream",
     "text": [
      "{}\n"
     ]
    }
   ],
   "source": [
    "print(challenge) #is the dict not set?"
   ]
  },
  {
   "cell_type": "code",
   "execution_count": 25,
   "metadata": {},
   "outputs": [
    {
     "name": "stdout",
     "output_type": "stream",
     "text": [
      "please enter your calories for breakfast: 650\n",
      "please enter your calories for lunch: 450\n",
      "please enter your calories for snack: 200\n",
      "please enter your calories for dinner: 650\n",
      "Your total calorie intake:  1950.0\n"
     ]
    }
   ],
   "source": [
    "calories_in()"
   ]
  },
  {
   "cell_type": "code",
   "execution_count": 21,
   "metadata": {},
   "outputs": [
    {
     "name": "stdout",
     "output_type": "stream",
     "text": [
      "please enter your age: 41\n",
      "please enter your gender as M or F: M\n"
     ]
    },
    {
     "data": {
      "text/plain": [
       "2200"
      ]
     },
     "execution_count": 21,
     "metadata": {},
     "output_type": "execute_result"
    }
   ],
   "source": [
    "calorie_burn()"
   ]
  },
  {
   "cell_type": "code",
   "execution_count": 26,
   "metadata": {
    "scrolled": true
   },
   "outputs": [
    {
     "ename": "NameError",
     "evalue": "name 'total_cals' is not defined",
     "output_type": "error",
     "traceback": [
      "\u001b[1;31m---------------------------------------------------------------------------\u001b[0m",
      "\u001b[1;31mNameError\u001b[0m                                 Traceback (most recent call last)",
      "\u001b[1;32m<ipython-input-26-18c28424c1d3>\u001b[0m in \u001b[0;36m<module>\u001b[1;34m\u001b[0m\n\u001b[1;32m----> 1\u001b[1;33m \u001b[0mcal_dif\u001b[0m \u001b[1;33m=\u001b[0m \u001b[0mtotal_cals\u001b[0m \u001b[1;33m-\u001b[0m \u001b[0mcal_burn\u001b[0m\u001b[1;33m\u001b[0m\u001b[1;33m\u001b[0m\u001b[0m\n\u001b[0m",
      "\u001b[1;31mNameError\u001b[0m: name 'total_cals' is not defined"
     ]
    }
   ],
   "source": [
    "cal_dif = total_cals - cal_burn #how to get results out of functions?"
   ]
  },
  {
   "cell_type": "code",
   "execution_count": 34,
   "metadata": {
    "scrolled": true
   },
   "outputs": [
    {
     "name": "stdout",
     "output_type": "stream",
     "text": [
      "enter results member 1: 45\n",
      "enter results member 2: 45\n",
      "And the results are draw\n"
     ]
    }
   ],
   "source": [
    "challenge_winner()"
   ]
  },
  {
   "cell_type": "code",
   "execution_count": 63,
   "metadata": {},
   "outputs": [
    {
     "name": "stdout",
     "output_type": "stream",
     "text": [
      "Rate your activite 1-18 with 1 for walking and 18 running 10.9 miles an hour: 6\n",
      "Enter the number of minutes active: 35\n"
     ]
    },
    {
     "data": {
      "text/plain": [
       "358.33"
      ]
     },
     "execution_count": 63,
     "metadata": {},
     "output_type": "execute_result"
    }
   ],
   "source": [
    "# Duration of physical activity in minutes × (MET × 3.5 × your weight in kg) / 200 = Total calories burned\n",
    "\n",
    "MET = float(input('Rate your activite 1-18 with 1 for walking and 18 running 10.9 miles an hour: '))\n",
    "Time = float(input('Enter the number of minutes active: '))\n",
    "\n",
    "calories_burned(\"\",Time, MET, weight)"
   ]
  },
  {
   "cell_type": "code",
   "execution_count": 52,
   "metadata": {},
   "outputs": [
    {
     "name": "stdout",
     "output_type": "stream",
     "text": [
      "please enter your current weight in pounds: 215\n",
      "please enter your target weight in pounds: 169\n",
      "please enter the number of calories you burn by activity: 250\n",
      "please enter the base number of calories you burn per day: 2200\n",
      "please enter the number of calories you in take: 1800\n",
      "A weight loss goal of 46 pounds with a daily calorie difference of 650.0\n",
      "will require 247.69 days or 8.26 months.\n"
     ]
    }
   ],
   "source": [
    "goal_est()"
   ]
  },
  {
   "cell_type": "code",
   "execution_count": 53,
   "metadata": {},
   "outputs": [
    {
     "name": "stdout",
     "output_type": "stream",
     "text": [
      "Enter your weight in kilograms:97.52\n",
      "Enter your height in centimeters:181.61\n",
      "Enter your gender as M or F:29.57\n"
     ]
    }
   ],
   "source": [
    "# Receive input from the user\n",
    "weight=float(input(\"Enter your weight in kilograms:\"))\n",
    "height=float(input(\"Enter your height in centimeters:\"))\n",
    "gender=input(\"Enter your gender as M or F:\")\n",
    "\n",
    "# Test\n",
    "# Enter your weight in kilograms:97.52\n",
    "# Enter your height in centimeters:181.61\n",
    "# Your Body Mass Index (BMI) is: 29.57"
   ]
  },
  {
   "cell_type": "code",
   "execution_count": 54,
   "metadata": {},
   "outputs": [
    {
     "name": "stdout",
     "output_type": "stream",
     "text": [
      "Your Body Mass Index (BMI) is: 29.57\n"
     ]
    }
   ],
   "source": [
    "BMI(\"metric\", weight, height)"
   ]
  },
  {
   "cell_type": "code",
   "execution_count": 55,
   "metadata": {},
   "outputs": [
    {
     "name": "stdout",
     "output_type": "stream",
     "text": [
      "Enter your weight in pounds:215\n",
      "Enter your height in inches:71.5\n",
      "Enter your gender as M or F:M\n"
     ]
    }
   ],
   "source": [
    "# Receive input from the user\n",
    "weight=float(input(\"Enter your weight in pounds:\"))\n",
    "height=float(input(\"Enter your height in inches:\"))\n",
    "gender=input(\"Enter your gender as M or F:\")"
   ]
  },
  {
   "cell_type": "code",
   "execution_count": 56,
   "metadata": {},
   "outputs": [
    {
     "name": "stdout",
     "output_type": "stream",
     "text": [
      "Your Body Mass Index (BMI) is: 29.56\n"
     ]
    }
   ],
   "source": [
    "BMI(\"\", weight, height)"
   ]
  },
  {
   "cell_type": "code",
   "execution_count": 57,
   "metadata": {
    "scrolled": true
   },
   "outputs": [
    {
     "name": "stdout",
     "output_type": "stream",
     "text": [
      "Your idea weight in kg: 79.05\n"
     ]
    }
   ],
   "source": [
    "hamwi('', gender, height)"
   ]
  },
  {
   "cell_type": "code",
   "execution_count": 58,
   "metadata": {},
   "outputs": [
    {
     "data": {
      "text/plain": [
       "174.30525"
      ]
     },
     "execution_count": 58,
     "metadata": {},
     "output_type": "execute_result"
    }
   ],
   "source": [
    "pounds(79.05)"
   ]
  },
  {
   "cell_type": "code",
   "execution_count": null,
   "metadata": {},
   "outputs": [],
   "source": [
    "# # BMI function in imperial units\n",
    "# def BMI_US(pounds, inch):\n",
    "#     kg = pounds / 2.205\n",
    "#     cm = inch * 2.54\n",
    "#     bmi=kg/((cm/100)*(cm/100))\n",
    "    \n",
    "#     # Display the result to the user\n",
    "#     return print(\"Your Body Mass Index (BMI) is:\",round(bmi,2))\n",
    "\n",
    "# def inch(h):\n",
    "#     inch = h/2.54\n",
    "    \n",
    "#     return new_h\n",
    "\n",
    "# def pounds(w):\n",
    "#     pounds = w * 2.205\n",
    "    \n",
    "#     return new_w"
   ]
  }
 ],
 "metadata": {
  "kernelspec": {
   "display_name": "Python 3",
   "language": "python",
   "name": "python3"
  },
  "language_info": {
   "codemirror_mode": {
    "name": "ipython",
    "version": 3
   },
   "file_extension": ".py",
   "mimetype": "text/x-python",
   "name": "python",
   "nbconvert_exporter": "python",
   "pygments_lexer": "ipython3",
   "version": "3.7.6"
  }
 },
 "nbformat": 4,
 "nbformat_minor": 4
}
