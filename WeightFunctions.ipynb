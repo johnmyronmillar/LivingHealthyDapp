{
 "cells": [
  {
   "cell_type": "code",
   "execution_count": 1,
   "metadata": {},
   "outputs": [],
   "source": [
    "# imports?"
   ]
  },
  {
   "cell_type": "code",
   "execution_count": 2,
   "metadata": {},
   "outputs": [],
   "source": [
    "# fixed:\n",
    "CALORIES_PER_POUND = 3500\n",
    "\n",
    "# inputs from user interface:\n",
    "units = ''\n",
    "\n",
    "current_weight = 0\n",
    "target_weight = 0\n",
    "height = 0\n",
    "age = 0\n",
    "gender = 'M'\n",
    "\n",
    "time = 0 # in minutes\n",
    "met = 0\n",
    "\n",
    "breakfast = 0\n",
    "lunch = 0\n",
    "snack = 0\n",
    "dinner = 0\n",
    "\n",
    "formula = 'hamwi'\n",
    "\n",
    "frequency = ''\n",
    "\n",
    "challenge_name = ''\n",
    "goal = 0\n",
    "wager = 0\n",
    "counter = 0 # do we need a counter to increment number of challenges?\n",
    "\n"
   ]
  },
  {
   "cell_type": "code",
   "execution_count": 3,
   "metadata": {},
   "outputs": [],
   "source": [
    "# outputs:\n",
    "bmi = 0\n",
    "calories_burned = 0 # calorie burn by activity\n",
    "calorie_intake = 0\n",
    "base_calorie_burn = 0\n",
    "pounds = 0\n",
    "inches = 0\n",
    "ideal_weight = 0\n",
    "total_cals = 0\n",
    "winner = ''"
   ]
  },
  {
   "cell_type": "code",
   "execution_count": 4,
   "metadata": {},
   "outputs": [],
   "source": [
    "# BMI funciton in metric system\n",
    "def BMI(units, current_weight, height):\n",
    "    if units == \"metric\":\n",
    "        bmi = current_weight/((height/100)*(height/100))\n",
    "    \n",
    "    else:\n",
    "        kg = current_weight / 2.205 # pounds to kg\n",
    "        cm = height * 2.54 # inches to cm\n",
    "        bmi=kg/((cm/100)*(cm/100))\n",
    "    \n",
    "    bmi = round(bmi,2)\n",
    "    return bmi"
   ]
  },
  {
   "cell_type": "code",
   "execution_count": 5,
   "metadata": {},
   "outputs": [],
   "source": [
    "def calories_burned(units, time, met, current_weight):\n",
    "    if units == \"metric\":\n",
    "        calories_burned = round((time * met * 3.5 * current_weight / 200), 2)\n",
    "        \n",
    "    else:\n",
    "        kg = current_weight / 2.205 # pounds to kg\n",
    "        calories_burned = round((time * met * 3.5 * kg / 200), 2)\n",
    "\n",
    "    return calories_burned"
   ]
  },
  {
   "cell_type": "code",
   "execution_count": 6,
   "metadata": {},
   "outputs": [],
   "source": [
    "def pounds(kg):\n",
    "    if units == 'metric':\n",
    "        pounds = kg # no conversion\n",
    "    else:\n",
    "        pounds = kg * 2.205\n",
    "    return pounds"
   ]
  },
  {
   "cell_type": "code",
   "execution_count": 7,
   "metadata": {},
   "outputs": [],
   "source": [
    "def inch(units, cm):\n",
    "    if units == 'metric':\n",
    "        inches = cm / 2.54\n",
    "    else:\n",
    "        inches = cm\n",
    "    return inches"
   ]
  },
  {
   "cell_type": "code",
   "execution_count": 8,
   "metadata": {},
   "outputs": [],
   "source": [
    "def ideal_weight_formula(formula, units, gender, height):\n",
    "    if formula == 'hamwi':\n",
    "        x = 48\n",
    "        y = 45.5\n",
    "        a = 2.7\n",
    "        b = 2.2\n",
    "    elif formula == 'devine':\n",
    "        x = 50\n",
    "        y = 45.5\n",
    "        a = 2.3\n",
    "        b = 2.3\n",
    "    elif formula == 'robinson':\n",
    "        x = 52\n",
    "        y = 49\n",
    "        a = 1.9\n",
    "        b = 1.7\n",
    "    elif formula == 'miller':\n",
    "        x = 56.2\n",
    "        y = 53.1\n",
    "        a = 1.41\n",
    "        b = 1.36\n",
    "    else:\n",
    "        x = 48\n",
    "        y = 45.5\n",
    "        a = 2.7\n",
    "        b = 2.2\n",
    "        \n",
    "    if gender == 'M':\n",
    "        ideal = x + ((inch(units, height) - 60) * a)\n",
    "    elif gender == 'F':\n",
    "        ideal = y + ((inch(units, height) - 60) * b)\n",
    "    else:\n",
    "        print('error with ideal_weight_formula')\n",
    "    \n",
    "    ideal = pounds(ideal)\n",
    "    \n",
    "    ideal_weight = round(ideal,2)\n",
    "    \n",
    "    return ideal_weight"
   ]
  },
  {
   "cell_type": "code",
   "execution_count": 9,
   "metadata": {},
   "outputs": [],
   "source": [
    "def daily_calories(breakfast, lunch, snack, dinner):\n",
    "    calorie_intake = breakfast + lunch + snack + dinner\n",
    "    \n",
    "    return calorie_intake "
   ]
  },
  {
   "cell_type": "code",
   "execution_count": 10,
   "metadata": {},
   "outputs": [],
   "source": [
    "def calorie_burn(gender, age):\n",
    "    if gender == \"F\":\n",
    "        if age <= 8:\n",
    "            base_calorie_burn = 1200\n",
    "        elif age <= 13:\n",
    "            base_calorie_burn = 1600\n",
    "        elif age <= 18:\n",
    "            base_calorie_burn = 1800\n",
    "        elif age <= 30:\n",
    "            base_calorie_burn = 2000\n",
    "        elif age <= 50:\n",
    "            base_calorie_burn = 1800\n",
    "        elif age >= 51:\n",
    "            base_calorie_burn = 1600\n",
    "    else:\n",
    "        if age <= 8:\n",
    "            base_calorie_burn = 1400\n",
    "        elif age <= 13:\n",
    "            base_calorie_burn = 1800\n",
    "        elif age <= 18:\n",
    "            base_calorie_burn = 2200\n",
    "        elif age <= 30:\n",
    "            base_calorie_burn = 2400\n",
    "        elif age <= 50:\n",
    "            base_calorie_burn = 2200\n",
    "        elif age >= 51:\n",
    "            base_calorie_burn = 2000\n",
    "            \n",
    "    return base_calorie_burn"
   ]
  },
  {
   "cell_type": "code",
   "execution_count": 11,
   "metadata": {},
   "outputs": [],
   "source": [
    "def weight_goal(current_weight, target_weight):\n",
    "    weight_loss_goal = round(int(current_weight - target_weight), 2)\n",
    "    \n",
    "    return weight_loss_goal"
   ]
  },
  {
   "cell_type": "code",
   "execution_count": 12,
   "metadata": {},
   "outputs": [],
   "source": [
    "def calorie_diff(base_calorie_burn, calories_burned, calorie_intake):\n",
    "    calorie_difference = round((base_calorie_burn + calories_burned - calorie_intake), 2)\n",
    "\n",
    "    return calorie_difference"
   ]
  },
  {
   "cell_type": "code",
   "execution_count": 13,
   "metadata": {},
   "outputs": [],
   "source": [
    "def time_required(frequency, current_weight, target_weight, CALORIES_PER_POUND, gender, age, units, time, met, breakfast, lunch, snack, dinner):\n",
    "    days_required = round((weight_goal(current_weight, target_weight) * CALORIES_PER_POUND / calorie_diff(calorie_burn(gender, age), calories_burned(units, time, met, current_weight), daily_calories(breakfast, lunch, snack, dinner))), 2)\n",
    "    months_required = round((days_required / 30), 2)\n",
    "    \n",
    "    if frequency == 'days':\n",
    "        return days_required\n",
    "    elif frequency == 'months':\n",
    "        return months_required\n",
    "    else:\n",
    "        return months_required"
   ]
  },
  {
   "cell_type": "code",
   "execution_count": 14,
   "metadata": {},
   "outputs": [
    {
     "data": {
      "text/plain": [
       "1650"
      ]
     },
     "execution_count": 14,
     "metadata": {},
     "output_type": "execute_result"
    }
   ],
   "source": [
    "daily_calories(350, 450, 200, 650)"
   ]
  },
  {
   "cell_type": "code",
   "execution_count": 15,
   "metadata": {},
   "outputs": [
    {
     "data": {
      "text/plain": [
       "1800"
      ]
     },
     "execution_count": 15,
     "metadata": {},
     "output_type": "execute_result"
    }
   ],
   "source": [
    "calorie_burn('F', 18)"
   ]
  },
  {
   "cell_type": "code",
   "execution_count": 16,
   "metadata": {
    "scrolled": true
   },
   "outputs": [
    {
     "data": {
      "text/plain": [
       "5.31"
      ]
     },
     "execution_count": 16,
     "metadata": {},
     "output_type": "execute_result"
    }
   ],
   "source": [
    "time_required(\"months\", 215, 169, CALORIES_PER_POUND, \"M\", 41, '', 45, 6, 350, 450, 200, 650)\n"
   ]
  },
  {
   "cell_type": "code",
   "execution_count": 17,
   "metadata": {},
   "outputs": [
    {
     "data": {
      "text/plain": [
       "460.71"
      ]
     },
     "execution_count": 17,
     "metadata": {},
     "output_type": "execute_result"
    }
   ],
   "source": [
    "calories_burned(\"\", 45, 6, 215)"
   ]
  },
  {
   "cell_type": "code",
   "execution_count": 18,
   "metadata": {},
   "outputs": [
    {
     "data": {
      "text/plain": [
       "29.56"
      ]
     },
     "execution_count": 18,
     "metadata": {},
     "output_type": "execute_result"
    }
   ],
   "source": [
    "BMI(\"\", 215, 71.5)"
   ]
  },
  {
   "cell_type": "code",
   "execution_count": 19,
   "metadata": {
    "scrolled": true
   },
   "outputs": [
    {
     "data": {
      "text/plain": [
       "174.31"
      ]
     },
     "execution_count": 19,
     "metadata": {},
     "output_type": "execute_result"
    }
   ],
   "source": [
    "ideal_weight_formula('hamwi', '', 'M', 71.5)"
   ]
  },
  {
   "cell_type": "code",
   "execution_count": 20,
   "metadata": {},
   "outputs": [],
   "source": [
    "def challenge_set(counter, challenge_name, goal, wager): # this will probably be in solidity\n",
    "    counter += 1\n",
    "    challenge = {'Counter': counter, 'Challenge_name': challenge_name, 'Goal': goal, 'Wager': wager}\n",
    "    \n",
    "    return challenge"
   ]
  },
  {
   "cell_type": "code",
   "execution_count": 21,
   "metadata": {},
   "outputs": [],
   "source": [
    "def challenge_winner(member1_results, member2_results): # this will probably be in Solidity\n",
    "\n",
    "    if member1_results == member2_results:\n",
    "        winner = \"draw\"\n",
    "    elif member1_results >= member2_results:\n",
    "        winner = \"Member 1 wins\"\n",
    "    else:\n",
    "        winner = \"Member 2 wins\"\n",
    "    \n",
    "    return winner"
   ]
  }
 ],
 "metadata": {
  "kernelspec": {
   "display_name": "Python 3",
   "language": "python",
   "name": "python3"
  },
  "language_info": {
   "codemirror_mode": {
    "name": "ipython",
    "version": 3
   },
   "file_extension": ".py",
   "mimetype": "text/x-python",
   "name": "python",
   "nbconvert_exporter": "python",
   "pygments_lexer": "ipython3",
   "version": "3.7.6"
  }
 },
 "nbformat": 4,
 "nbformat_minor": 4
}
