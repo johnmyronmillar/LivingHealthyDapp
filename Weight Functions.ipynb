{
 "cells": [
  {
   "cell_type": "code",
   "execution_count": 1,
   "metadata": {},
   "outputs": [],
   "source": [
    "# imports?"
   ]
  },
  {
   "cell_type": "code",
   "execution_count": 3,
   "metadata": {},
   "outputs": [],
   "source": [
    "# BMI funciton in metric system\n",
    "def BMI(units, w, h):\n",
    "    if units == \"metric\":\n",
    "    # Calculate the BMI\n",
    "        bmi=w/((h/100)*(h/100))\n",
    "    \n",
    "    else:\n",
    "        kg = w / 2.205 # pounds to kg\n",
    "        cm = h * 2.54 # inches to cm\n",
    "        bmi=kg/((cm/100)*(cm/100))\n",
    "\n",
    "    # Display the result to the user\n",
    "    return print(\"Your Body Mass Index (BMI) is:\",round(bmi,2))\n"
   ]
  },
  {
   "cell_type": "code",
   "execution_count": 5,
   "metadata": {},
   "outputs": [],
   "source": [
    "def calories_burned(units, t, m, w):\n",
    "    if units == \"metric\":\n",
    "        calories = t * m * 3.5 * w / 200\n",
    "        \n",
    "    else:\n",
    "        kg = w / 2.205 # pounds to kg\n",
    "        calories = t * m * 3.5 * kg / 200\n",
    "\n",
    "    return calories"
   ]
  },
  {
   "cell_type": "code",
   "execution_count": 26,
   "metadata": {},
   "outputs": [],
   "source": [
    "def pounds(kg):\n",
    "    p = kg * 2.205\n",
    "    return p"
   ]
  },
  {
   "cell_type": "code",
   "execution_count": 24,
   "metadata": {},
   "outputs": [],
   "source": [
    "def inch(units, cm):\n",
    "    if units == 'metric':\n",
    "        inches = cm / 2.54\n",
    "    else:\n",
    "        inches = cm\n",
    "    return inches\n",
    "\n",
    "# G. J. Hamwi Formula (1964)\n",
    "# Male:\t48.0 kg + 2.7 kg per inch over 5 feet\n",
    "# Female:\t45.5 kg + 2.2 kg per inch over 5 feet\n",
    "\n",
    "def hamwi(units, s, h):\n",
    "    \n",
    "    if s == 'M':\n",
    "        ideal = 48 + ((inch(units, h) - 60) * 2.7)\n",
    "    elif s == 'F':\n",
    "        ideal = 45.5 + ((inch(units, h) - 60) * 2.2)\n",
    "    else:\n",
    "        print(\"missing M or F\")\n",
    "        \n",
    "    # Display the result to the user\n",
    "    return print(\"Your idea weight in kg:\",round(ideal,2))\n",
    "\n",
    "# B. J. Devine Formula (1974)\n",
    "# Male:\t50.0 kg + 2.3 kg per inch over 5 feet\n",
    "# Female:\t45.5 kg + 2.3 kg per inch over 5 feet\n",
    "\n",
    "def devine(s, h):\n",
    "    \n",
    "    if s == 'M':\n",
    "        ideal = 50 + ((inch(units, h) - 60) * 2.3)\n",
    "    elif s == 'F':\n",
    "        ideal = 45.5 + ((inch(units, h) - 60) * 2.3)\n",
    "    else:\n",
    "        print(\"missing M or F\")\n",
    "        \n",
    "    # Display the result to the user\n",
    "    return print(\"Your idea weight in kg:\",round(ideal,2))\n",
    "\n",
    "# J. D. Robinson Formula (1983)\n",
    "# Male:\t52 kg + 1.9 kg per inch over 5 feet\n",
    "# Female:\t49 kg + 1.7 kg per inch over 5 feet\n",
    "\n",
    "def robinson(s, h):\n",
    "    \n",
    "    if s == 'M':\n",
    "        ideal = 52 + ((inch(units, h) - 60) * 1.9)\n",
    "    elif s == 'F':\n",
    "        ideal = 49 + ((inch(units, h) - 60) * 1.7)\n",
    "    else:\n",
    "        print(\"missing M or F\")\n",
    "        \n",
    "    # Display the result to the user\n",
    "    return print(\"Your idea weight in kg:\",round(ideal,2))\n",
    "\n",
    "# D. R. Miller Formula (1983)\n",
    "# Male:\t56.2 kg + 1.41 kg per inch over 5 feet\n",
    "# Female:\t53.1 kg + 1.36 kg per inch over 5 feet\n",
    "\n",
    "def miller(s, h):\n",
    "    \n",
    "    if s == 'M':\n",
    "        ideal = 56.2 + ((inch(units, h) - 60) * 1.41)\n",
    "    elif s == 'F':\n",
    "        ideal = 53.1 + ((inch(units, h) - 60) * 1.36)\n",
    "    else:\n",
    "        print(\"missing M or F\")\n",
    "        \n",
    "    # Display the result to the user\n",
    "    return print(\"Your idea weight in kg:\",round(ideal,2))"
   ]
  },
  {
   "cell_type": "code",
   "execution_count": 7,
   "metadata": {},
   "outputs": [],
   "source": [
    "# Calorie calculator\n",
    "CALORIES_PER_POUND = 3500\n",
    "\n",
    "def main():\n",
    "    try:\n",
    "        current_weight = float(input('please enter your current weight in pounds: '))\n",
    "        target_weight = float(input('please enter your target weight in pounds: '))\n",
    "        NumDays = int(input('please enter the number of days you have been on the diet: '))\n",
    "        calories_burned = float(input('please enter the number of calories you burn per day: '))\n",
    "    except ValueError as err:\n",
    "        print (\"please enter a numeric value\")\n",
    "        return \n",
    "    \n",
    "    calc_weight(current_weight, target_weight, NumDays, calories_burned)\n",
    "    \n",
    "def calc_weight(v, w, x, y):\n",
    "    days_required = round(((v - w) * CALORIES_PER_POUND / y), 2)\n",
    "    months_required = round((days_required / 30), 2)\n",
    "    remaining_days = round((days_required - x), 2)\n",
    "    remaining_months = round((remaining_days / 30), 2)\n",
    "    pounds_remaining = round(((v - w) - (y * x) / CALORIES_PER_POUND), 2)\n",
    "    pounds_burned = round(((v - w) - pounds_remaining), 2)\n",
    "    \n",
    "    print ('days required: ', days_required, 'months required: ', months_required, 'remaining days: ', remaining_days)\n",
    "    print ('months remaining: ', remaining_months, 'pounds burned: ', pounds_burned, 'pounds remaining: ', pounds_remaining)\n"
   ]
  },
  {
   "cell_type": "code",
   "execution_count": 8,
   "metadata": {},
   "outputs": [
    {
     "name": "stdout",
     "output_type": "stream",
     "text": [
      "please enter your current weight in pounds: 215\n",
      "please enter your target weight in pounds: 169\n",
      "please enter the number of days you have been on the diet: 52\n",
      "please enter the number of calories you burn per day: 500\n",
      "days required:  322.0 months required:  10.73 remaining days:  270.0\n",
      "months remaining:  9.0 pounds burned:  7.43 pounds remaining:  38.57\n"
     ]
    }
   ],
   "source": [
    "main()"
   ]
  },
  {
   "cell_type": "code",
   "execution_count": 10,
   "metadata": {},
   "outputs": [
    {
     "name": "stdout",
     "output_type": "stream",
     "text": [
      "Enter your weight in kilograms:97.52\n",
      "Enter your height in centimeters:181.61\n",
      "Enter your sex as M or F:M\n"
     ]
    }
   ],
   "source": [
    "# Receive input from the user\n",
    "weight=float(input(\"Enter your weight in kilograms:\"))\n",
    "height=float(input(\"Enter your height in centimeters:\"))\n",
    "gender=input(\"Enter your gender as M or F:\")\n",
    "\n",
    "# Test\n",
    "# Enter your weight in kilograms:97.52\n",
    "# Enter your height in centimeters:181.61\n",
    "# Your Body Mass Index (BMI) is: 29.57"
   ]
  },
  {
   "cell_type": "code",
   "execution_count": 11,
   "metadata": {},
   "outputs": [
    {
     "name": "stdout",
     "output_type": "stream",
     "text": [
      "Your Body Mass Index (BMI) is: 29.57\n"
     ]
    }
   ],
   "source": [
    "BMI(\"metric\", weight, height)"
   ]
  },
  {
   "cell_type": "code",
   "execution_count": 12,
   "metadata": {},
   "outputs": [
    {
     "name": "stdout",
     "output_type": "stream",
     "text": [
      "Enter your weight in pounds:215\n",
      "Enter your height in inches:71.5\n",
      "Enter your gender as M or F:M\n"
     ]
    }
   ],
   "source": [
    "# Receive input from the user\n",
    "weight=float(input(\"Enter your weight in pounds:\"))\n",
    "height=float(input(\"Enter your height in inches:\"))\n",
    "gender=input(\"Enter your gender as M or F:\")"
   ]
  },
  {
   "cell_type": "code",
   "execution_count": 13,
   "metadata": {},
   "outputs": [
    {
     "name": "stdout",
     "output_type": "stream",
     "text": [
      "Your Body Mass Index (BMI) is: 29.56\n"
     ]
    }
   ],
   "source": [
    "BMI(\"\", weight, height)"
   ]
  },
  {
   "cell_type": "code",
   "execution_count": 27,
   "metadata": {
    "scrolled": true
   },
   "outputs": [
    {
     "name": "stdout",
     "output_type": "stream",
     "text": [
      "Your idea weight in kg: 79.05\n"
     ]
    }
   ],
   "source": [
    "hamwi('', gender, height)"
   ]
  },
  {
   "cell_type": "code",
   "execution_count": 28,
   "metadata": {},
   "outputs": [
    {
     "data": {
      "text/plain": [
       "174.30525"
      ]
     },
     "execution_count": 28,
     "metadata": {},
     "output_type": "execute_result"
    }
   ],
   "source": [
    "pounds(79.05)"
   ]
  },
  {
   "cell_type": "code",
   "execution_count": 29,
   "metadata": {},
   "outputs": [
    {
     "name": "stdout",
     "output_type": "stream",
     "text": [
      "Rate your activite 1-18 with 1 for walking and 18 running 10.9 miles an hour: 9\n",
      "Enter the number of minutes active: 45\n"
     ]
    }
   ],
   "source": [
    "# Duration of physical activity in minutes × (MET × 3.5 × your weight in kg) / 200 = Total calories burned\n",
    "\n",
    "MET = float(input('Rate your activite 1-18 with 1 for walking and 18 running 10.9 miles an hour: '))\n",
    "Time = float(input('Enter the number of minutes active: '))\n"
   ]
  },
  {
   "cell_type": "code",
   "execution_count": 30,
   "metadata": {},
   "outputs": [
    {
     "data": {
      "text/plain": [
       "691.0714285714286"
      ]
     },
     "execution_count": 30,
     "metadata": {},
     "output_type": "execute_result"
    }
   ],
   "source": [
    "calories_burned(\"\",Time, MET, weight)"
   ]
  },
  {
   "cell_type": "code",
   "execution_count": null,
   "metadata": {},
   "outputs": [],
   "source": [
    "# # BMI function in imperial units\n",
    "# def BMI_US(pounds, inch):\n",
    "#     kg = pounds / 2.205\n",
    "#     cm = inch * 2.54\n",
    "#     bmi=kg/((cm/100)*(cm/100))\n",
    "    \n",
    "#     # Display the result to the user\n",
    "#     return print(\"Your Body Mass Index (BMI) is:\",round(bmi,2))\n",
    "\n",
    "# def inch(h):\n",
    "#     inch = h/2.54\n",
    "    \n",
    "#     return new_h\n",
    "\n",
    "# def pounds(w):\n",
    "#     pounds = w * 2.205\n",
    "    \n",
    "#     return new_w"
   ]
  }
 ],
 "metadata": {
  "kernelspec": {
   "display_name": "Python 3",
   "language": "python",
   "name": "python3"
  },
  "language_info": {
   "codemirror_mode": {
    "name": "ipython",
    "version": 3
   },
   "file_extension": ".py",
   "mimetype": "text/x-python",
   "name": "python",
   "nbconvert_exporter": "python",
   "pygments_lexer": "ipython3",
   "version": "3.7.6"
  }
 },
 "nbformat": 4,
 "nbformat_minor": 4
}
