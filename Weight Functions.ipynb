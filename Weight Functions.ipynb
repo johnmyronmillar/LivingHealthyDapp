{
 "cells": [
  {
   "cell_type": "code",
   "execution_count": null,
   "metadata": {},
   "outputs": [],
   "source": [
    "# imports?"
   ]
  },
  {
   "cell_type": "code",
   "execution_count": 20,
   "metadata": {},
   "outputs": [],
   "source": [
    "# BMI funciton\n",
    "def BMI(w, h):\n",
    "    # Calculate the BMI\n",
    "    bmi=w/((h/100)*(h/100))\n",
    "\n",
    "    # Display the result to the user\n",
    "    return print(\"Your Body Mass Index (BMI) is:\",round(bmi,2))"
   ]
  },
  {
   "cell_type": "code",
   "execution_count": 30,
   "metadata": {},
   "outputs": [
    {
     "name": "stdout",
     "output_type": "stream",
     "text": [
      "Enter your weight in kilograms:97.52\n",
      "Enter your height in centimeters:181.61\n",
      "Enter your sex as M or F:M\n",
      "Your Body Mass Index (BMI) is: 29.57\n"
     ]
    }
   ],
   "source": [
    "# Receive input from the user\n",
    "weight=float(input(\"Enter your weight in kilograms:\"))\n",
    "height=float(input(\"Enter your height in centimeters:\"))\n",
    "sex=input(\"Enter your sex as M or F:\")\n",
    "\n",
    "BMI(weight, height)\n",
    "\n",
    "# Enter your weight in kilograms:97.52\n",
    "# Enter your height in centimeters:181.61\n",
    "# Your Body Mass Index (BMI) is: 29.57"
   ]
  },
  {
   "cell_type": "code",
   "execution_count": 25,
   "metadata": {},
   "outputs": [],
   "source": [
    "def inch(h):\n",
    "    new_h = h/2.54\n",
    "    \n",
    "    return new_h"
   ]
  },
  {
   "cell_type": "code",
   "execution_count": 23,
   "metadata": {},
   "outputs": [],
   "source": [
    "def pounds(w):\n",
    "    new_w = w * 2.205\n",
    "    \n",
    "    return new_w"
   ]
  },
  {
   "cell_type": "code",
   "execution_count": 31,
   "metadata": {},
   "outputs": [
    {
     "name": "stdout",
     "output_type": "stream",
     "text": [
      "215.0316\n",
      "71.5\n"
     ]
    }
   ],
   "source": [
    "# Test conversion\n",
    "print(pounds(weight))\n",
    "print(inch(height))"
   ]
  },
  {
   "cell_type": "code",
   "execution_count": 40,
   "metadata": {},
   "outputs": [],
   "source": [
    "# G. J. Hamwi Formula (1964)\n",
    "\n",
    "# Male:\t48.0 kg + 2.7 kg per inch over 5 feet\n",
    "# Female:\t45.5 kg + 2.2 kg per inch over 5 feet\n",
    "# Invented for medicinal dosage purposes.\n",
    "\n",
    "def hamwi(s, h):\n",
    "     \n",
    "    if s == 'M':\n",
    "        ideal = 48 + ((inch(h) - 60) * 2.7)\n",
    "    elif s == 'F':\n",
    "        ideal = 45.5 + ((inch(h) - 60) * 2.2)\n",
    "    else:\n",
    "        print(\"missing M or F\")\n",
    "        \n",
    "    # Display the result to the user\n",
    "    return print(\"Your idea weight:\",round(ideal,2))"
   ]
  },
  {
   "cell_type": "code",
   "execution_count": 41,
   "metadata": {
    "scrolled": true
   },
   "outputs": [
    {
     "name": "stdout",
     "output_type": "stream",
     "text": [
      "Your idea weight: 79.05\n"
     ]
    }
   ],
   "source": [
    "hamwi(sex, height)"
   ]
  },
  {
   "cell_type": "code",
   "execution_count": 42,
   "metadata": {},
   "outputs": [
    {
     "data": {
      "text/plain": [
       "174.30525"
      ]
     },
     "execution_count": 42,
     "metadata": {},
     "output_type": "execute_result"
    }
   ],
   "source": [
    "# conver to pounds\n",
    "pounds(79.05)"
   ]
  },
  {
   "cell_type": "code",
   "execution_count": null,
   "metadata": {},
   "outputs": [],
   "source": [
    "# B. J. Devine Formula (1974)\n",
    "\n",
    "# Male:\t50.0 kg + 2.3 kg per inch over 5 feet\n",
    "# Female:\t45.5 kg + 2.3 kg per inch over 5 feet\n",
    "# Similar to the Hamwi Formula, it was originally intended as a basis for medicinal dosages based on weight and height. Over time, the formula became a universal determinant of IBW.\n",
    "\n"
   ]
  },
  {
   "cell_type": "code",
   "execution_count": null,
   "metadata": {},
   "outputs": [],
   "source": [
    "# J. D. Robinson Formula (1983)\n",
    "\n",
    "# Male:\t52 kg + 1.9 kg per inch over 5 feet\n",
    "# Female:\t49 kg + 1.7 kg per inch over 5 feet\n",
    "# Modification of the Devine Formula.\n",
    "\n"
   ]
  },
  {
   "cell_type": "code",
   "execution_count": null,
   "metadata": {},
   "outputs": [],
   "source": [
    "# D. R. Miller Formula (1983)\n",
    "\n",
    "# Male:\t56.2 kg + 1.41 kg per inch over 5 feet\n",
    "# Female:\t53.1 kg + 1.36 kg per inch over 5 feet\n",
    "# Modification of the Devine Formula."
   ]
  },
  {
   "cell_type": "code",
   "execution_count": 50,
   "metadata": {},
   "outputs": [
    {
     "name": "stdout",
     "output_type": "stream",
     "text": [
      "please enter your current weight in pounds: 213.2\n",
      "please enter your target weight in pounds: 169.0\n",
      "please enter the number of days you have been on the diet: 52\n",
      "please enter the number of calories you burn per day: 2000\n",
      "days required:  77.35 months required:  2.58 remaining days:  25.35\n",
      "months remaining:  0.85 pounds burned:  29.71 pounds remaining:  14.49\n"
     ]
    }
   ],
   "source": [
    "# Calorie calculator\n",
    "CALORIES_PER_POUND = 3500\n",
    "\n",
    "def main():\n",
    "    try:\n",
    "    \tcurrent_weight = float(input('please enter your current weight in pounds: '))\n",
    "    \ttarget_weight = float(input('please enter your target weight in pounds: '))\n",
    "    \tNumDays = int(input('please enter the number of days you have been on the diet: '))\n",
    "    \tcalories_burned = float(input('please enter the number of calories you burn per day: '))\n",
    "    except ValueError as err:\n",
    "        print (\"please enter a numeric value\")\n",
    "        return \n",
    "    \n",
    "    calc_weight(current_weight, target_weight, NumDays, calories_burned)\n",
    "    \n",
    "def calc_weight(v, w, x, y):\n",
    "    days_required = round(((v - w) * CALORIES_PER_POUND / y), 2)\n",
    "    months_required = round((days_required / 30), 2)\n",
    "    remaining_days = round((days_required - x), 2)\n",
    "    remaining_months = round((remaining_days / 30), 2)\n",
    "    pounds_remaining = round(((v - w) - (y * x) / CALORIES_PER_POUND), 2)\n",
    "    pounds_burned = round(((v - w) - pounds_remaining), 2)\n",
    "    \n",
    "    print ('days required: ', days_required, 'months required: ', months_required, 'remaining days: ', remaining_days)\n",
    "    print ('months remaining: ', remaining_months, 'pounds burned: ', pounds_burned, 'pounds remaining: ', pounds_remaining)\n",
    "    \n",
    "    \n",
    "main()"
   ]
  },
  {
   "cell_type": "code",
   "execution_count": 43,
   "metadata": {},
   "outputs": [
    {
     "name": "stdout",
     "output_type": "stream",
     "text": [
      "Rate your activite 1-18 with 1 for walking and 18 running 10.9 miles an hour: 6\n",
      "Enter the number of minutes active: 60\n"
     ]
    }
   ],
   "source": [
    "# Duration of physical activity in minutes × (MET × 3.5 × your weight in kg) / 200 = Total calories burned\n",
    "\n",
    "MET = float(input('Rate your activite 1-18 with 1 for walking and 18 running 10.9 miles an hour: '))\n",
    "Time = float(input('Enter the number of minutes active: '))\n"
   ]
  },
  {
   "cell_type": "code",
   "execution_count": 44,
   "metadata": {},
   "outputs": [],
   "source": [
    "def calories_burned(t, m, w):\n",
    "    calories = t * m * 3.5 * w / 200\n",
    "    return calories"
   ]
  },
  {
   "cell_type": "code",
   "execution_count": 45,
   "metadata": {},
   "outputs": [
    {
     "data": {
      "text/plain": [
       "614.376"
      ]
     },
     "execution_count": 45,
     "metadata": {},
     "output_type": "execute_result"
    }
   ],
   "source": [
    "calories_burned(Time, MET, weight)"
   ]
  }
 ],
 "metadata": {
  "kernelspec": {
   "display_name": "Python 3",
   "language": "python",
   "name": "python3"
  },
  "language_info": {
   "codemirror_mode": {
    "name": "ipython",
    "version": 3
   },
   "file_extension": ".py",
   "mimetype": "text/x-python",
   "name": "python",
   "nbconvert_exporter": "python",
   "pygments_lexer": "ipython3",
   "version": "3.7.7"
  }
 },
 "nbformat": 4,
 "nbformat_minor": 4
}
